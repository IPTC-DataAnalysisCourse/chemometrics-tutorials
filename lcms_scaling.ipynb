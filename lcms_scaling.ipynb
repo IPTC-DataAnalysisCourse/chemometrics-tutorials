{
  "cells": [
    {
      "cell_type": "markdown",
      "metadata": {
        "id": "Xg2mDzG_isvG"
      },
      "source": [
        "# Importing data, scaling and normalisation"
      ]
    },
    {
      "cell_type": "markdown",
      "metadata": {
        "id": "UsCqrl8DisvJ"
      },
      "source": [
        "This notebook is intended as an introduction to some of the basic functionality of Jupyter Notebooks used throughout this set of tutorials. First, we demonstrate how to import external packages, read the raw study data and configure the plotting interface.\n",
        "\n",
        "We also demonstrate how to perform different types of scaling to the data matrix and visualise their impact on the raw data matrix and interpretation using the [AddNeuroMed](https://nyaspubs.onlinelibrary.wiley.com/doi/10.1111/j.1749-6632.2009.05064.x) dataset of Alzheimer's disease.\n",
        "\n",
        "<br>\n",
        "\n",
        "*Credits: This tutorial was originally created by Gonçalo Correia and was adapted by Lukas Kopecky and Frederico Soares in November 2023.*"
      ]
    },
    {
      "cell_type": "markdown",
      "source": [],
      "metadata": {
        "id": "4eowIDlAzeDk"
      }
    },
    {
      "cell_type": "markdown",
      "source": [
        "## Preliminary Steps"
      ],
      "metadata": {
        "collapsed": false,
        "id": "qksWjDRbisvK"
      }
    },
    {
      "cell_type": "markdown",
      "source": [
        "### Installing Packages\n",
        "\n",
        "First we need to install required packages and clone the files from the [GitHub Rpository](https://github.com/kopeckylukas/IPTC-chemometrics-tutorials-LCMS.git) using this we will use some BASH scripting. You can skip this step if you are running this tutorial locally on your system; we recommend you to use Anaconda to install the required packages instead and then clone the files from GitHub repository locally."
      ],
      "metadata": {
        "collapsed": false,
        "id": "ACH4t58fisvK"
      }
    },
    {
      "cell_type": "code",
      "execution_count": null,
      "outputs": [
        {
          "output_type": "stream",
          "name": "stdout",
          "text": [
            "\u001b[?25l   \u001b[90m━━━━━━━━━━━━━━━━━━━━━━━━━━━━━━━━━━━━━━━━\u001b[0m \u001b[32m0.0/515.7 kB\u001b[0m \u001b[31m?\u001b[0m eta \u001b[36m-:--:--\u001b[0m\r\u001b[2K   \u001b[91m━━━━━━━━━━━━━━━━━━━━━━━━━━━━━━━━━━━━━━━\u001b[0m\u001b[91m╸\u001b[0m \u001b[32m512.0/515.7 kB\u001b[0m \u001b[31m17.4 MB/s\u001b[0m eta \u001b[36m0:00:01\u001b[0m\r\u001b[2K   \u001b[91m━━━━━━━━━━━━━━━━━━━━━━━━━━━━━━━━━━━━━━━\u001b[0m\u001b[91m╸\u001b[0m \u001b[32m512.0/515.7 kB\u001b[0m \u001b[31m17.4 MB/s\u001b[0m eta \u001b[36m0:00:01\u001b[0m\r\u001b[2K   \u001b[90m━━━━━━━━━━━━━━━━━━━━━━━━━━━━━━━━━━━━━━━━\u001b[0m \u001b[32m515.7/515.7 kB\u001b[0m \u001b[31m4.3 MB/s\u001b[0m eta \u001b[36m0:00:00\u001b[0m\n",
            "\u001b[?25h\u001b[?25l   \u001b[90m━━━━━━━━━━━━━━━━━━━━━━━━━━━━━━━━━━━━━━━━\u001b[0m \u001b[32m0.0/1.6 MB\u001b[0m \u001b[31m?\u001b[0m eta \u001b[36m-:--:--\u001b[0m\r\u001b[2K   \u001b[91m━━━━━━━━━━━━━━━━━━━━━━━\u001b[0m\u001b[91m╸\u001b[0m\u001b[90m━━━━━━━━━━━━━━━━\u001b[0m \u001b[32m0.9/1.6 MB\u001b[0m \u001b[31m26.6 MB/s\u001b[0m eta \u001b[36m0:00:01\u001b[0m\r\u001b[2K   \u001b[91m━━━━━━━━━━━━━━━━━━━━━━━━━━━━━━━━━━━━━━━\u001b[0m\u001b[91m╸\u001b[0m \u001b[32m1.6/1.6 MB\u001b[0m \u001b[31m23.1 MB/s\u001b[0m eta \u001b[36m0:00:01\u001b[0m\r\u001b[2K   \u001b[90m━━━━━━━━━━━━━━━━━━━━━━━━━━━━━━━━━━━━━━━━\u001b[0m \u001b[32m1.6/1.6 MB\u001b[0m \u001b[31m15.9 MB/s\u001b[0m eta \u001b[36m0:00:00\u001b[0m\n",
            "\u001b[?25h"
          ]
        }
      ],
      "source": [
        "!pip install -q ipympl"
      ],
      "metadata": {
        "ExecuteTime": {
          "end_time": "2023-11-28T15:22:18.641739Z",
          "start_time": "2023-11-28T15:22:18.551625Z"
        },
        "id": "P0aeqQiBisvL",
        "colab": {
          "base_uri": "https://localhost:8080/"
        },
        "outputId": "ba144b0b-ad49-40ab-aff2-c2580f68b807"
      }
    },
    {
      "cell_type": "code",
      "execution_count": 2,
      "outputs": [
        {
          "metadata": {
            "tags": null
          },
          "name": "stdout",
          "output_type": "stream",
          "text": [
            "Collecting kneed\n",
            "  Downloading kneed-0.8.5-py3-none-any.whl.metadata (5.5 kB)\n",
            "Requirement already satisfied: numpy>=1.14.2 in /usr/local/lib/python3.11/dist-packages (from kneed) (2.0.2)\n",
            "Requirement already satisfied: scipy>=1.0.0 in /usr/local/lib/python3.11/dist-packages (from kneed) (1.16.0)\n",
            "Downloading kneed-0.8.5-py3-none-any.whl (10 kB)\n",
            "Installing collected packages: kneed\n",
            "Successfully installed kneed-0.8.5\n"
          ]
        }
      ],
      "source": [
        "!pip install kneed"
      ],
      "metadata": {
        "ExecuteTime": {
          "end_time": "2023-11-28T15:22:18.775554Z",
          "start_time": "2023-11-28T15:22:18.645066Z"
        },
        "id": "AoXTebfiisvL",
        "colab": {
          "base_uri": "https://localhost:8080/"
        },
        "outputId": "8a95547e-19fd-4bc0-842c-b72cd9807e9f"
      }
    },
    {
      "cell_type": "code",
      "execution_count": 3,
      "outputs": [
        {
          "metadata": {
            "tags": null
          },
          "name": "stdout",
          "output_type": "stream",
          "text": [
            "Cloning into 'IPTC-chemometrics-tutorials-LCMS'...\n",
            "remote: Enumerating objects: 422, done.\u001b[K\n",
            "remote: Counting objects: 100% (86/86), done.\u001b[K\n",
            "remote: Compressing objects: 100% (11/11), done.\u001b[K\n",
            "remote: Total 422 (delta 82), reused 76 (delta 75), pack-reused 336 (from 3)\u001b[K\n",
            "Receiving objects: 100% (422/422), 106.78 MiB | 34.99 MiB/s, done.\n",
            "Resolving deltas: 100% (241/241), done.\n",
            "/content/IPTC-chemometrics-tutorials-LCMS\n"
          ]
        }
      ],
      "source": [
        "!git clone https://github.com/kopeckylukas/IPTC-chemometrics-tutorials-LCMS.git\n",
        "%cd IPTC-chemometrics-tutorials-LCMS"
      ],
      "metadata": {
        "ExecuteTime": {
          "end_time": "2023-11-28T15:22:18.826926Z",
          "start_time": "2023-11-28T15:22:18.778322Z"
        },
        "id": "jofEdg0PisvM",
        "colab": {
          "base_uri": "https://localhost:8080/"
        },
        "outputId": "22419845-c899-472c-8902-14b2f261a62b"
      }
    },
    {
      "cell_type": "markdown",
      "metadata": {
        "id": "4BgfTIbOisvM"
      },
      "source": [
        "### Package/code import and environment set up"
      ]
    },
    {
      "cell_type": "markdown",
      "metadata": {
        "id": "lgvfvNExisvN"
      },
      "source": [
        "The following cell imports the various necessary python packages. This cell is run at the beginning of each notebook."
      ]
    },
    {
      "cell_type": "code",
      "source": [
        "# NOTE: running this cell will result in an error and dependencies conflict.\n",
        "# Move to next cell if the last line of the error message is \"Successfully installed numpy-1.26.4 scipy-1.11.3\"\n",
        "# otherwise restart the runtime and RE-RUN the cell with pip install commented out\n",
        "\n",
        "!pip install scipy==1.11.3 numpy==1.26.4\n",
        "\n",
        "import scipy\n",
        "import numpy as np"
      ],
      "metadata": {
        "id": "IM6Y5xR-d-y4",
        "colab": {
          "base_uri": "https://localhost:8080/"
        },
        "outputId": "e0d05656-5d00-49f7-ed8f-0cf25bf34177"
      },
      "execution_count": null,
      "outputs": [
        {
          "output_type": "stream",
          "name": "stdout",
          "text": [
            "Collecting scipy==1.11.3\n",
            "  Downloading scipy-1.11.3-cp311-cp311-manylinux_2_17_x86_64.manylinux2014_x86_64.whl.metadata (60 kB)\n",
            "\u001b[2K     \u001b[90m━━━━━━━━━━━━━━━━━━━━━━━━━━━━━━━━━━━━━━━━\u001b[0m \u001b[32m60.4/60.4 kB\u001b[0m \u001b[31m3.1 MB/s\u001b[0m eta \u001b[36m0:00:00\u001b[0m\n",
            "\u001b[?25hCollecting numpy<1.28.0,>=1.21.6 (from scipy==1.11.3)\n",
            "  Downloading numpy-1.26.4-cp311-cp311-manylinux_2_17_x86_64.manylinux2014_x86_64.whl.metadata (61 kB)\n",
            "\u001b[2K     \u001b[90m━━━━━━━━━━━━━━━━━━━━━━━━━━━━━━━━━━━━━━━━\u001b[0m \u001b[32m61.0/61.0 kB\u001b[0m \u001b[31m4.4 MB/s\u001b[0m eta \u001b[36m0:00:00\u001b[0m\n",
            "\u001b[?25hDownloading scipy-1.11.3-cp311-cp311-manylinux_2_17_x86_64.manylinux2014_x86_64.whl (36.4 MB)\n",
            "\u001b[2K   \u001b[90m━━━━━━━━━━━━━━━━━━━━━━━━━━━━━━━━━━━━━━━━\u001b[0m \u001b[32m36.4/36.4 MB\u001b[0m \u001b[31m48.8 MB/s\u001b[0m eta \u001b[36m0:00:00\u001b[0m\n",
            "\u001b[?25hDownloading numpy-1.26.4-cp311-cp311-manylinux_2_17_x86_64.manylinux2014_x86_64.whl (18.3 MB)\n",
            "\u001b[2K   \u001b[90m━━━━━━━━━━━━━━━━━━━━━━━━━━━━━━━━━━━━━━━━\u001b[0m \u001b[32m18.3/18.3 MB\u001b[0m \u001b[31m76.9 MB/s\u001b[0m eta \u001b[36m0:00:00\u001b[0m\n",
            "\u001b[?25hInstalling collected packages: numpy, scipy\n",
            "  Attempting uninstall: numpy\n",
            "    Found existing installation: numpy 2.0.2\n",
            "    Uninstalling numpy-2.0.2:\n",
            "      Successfully uninstalled numpy-2.0.2\n",
            "  Attempting uninstall: scipy\n",
            "    Found existing installation: scipy 1.15.3\n",
            "    Uninstalling scipy-1.15.3:\n",
            "      Successfully uninstalled scipy-1.15.3\n",
            "\u001b[31mERROR: pip's dependency resolver does not currently take into account all the packages that are installed. This behaviour is the source of the following dependency conflicts.\n",
            "scikit-image 0.25.2 requires scipy>=1.11.4, but you have scipy 1.11.3 which is incompatible.\n",
            "tsfresh 0.21.0 requires scipy>=1.14.0; python_version >= \"3.10\", but you have scipy 1.11.3 which is incompatible.\n",
            "thinc 8.3.6 requires numpy<3.0.0,>=2.0.0, but you have numpy 1.26.4 which is incompatible.\u001b[0m\u001b[31m\n",
            "\u001b[0mSuccessfully installed numpy-1.26.4 scipy-1.11.3\n"
          ]
        }
      ]
    },
    {
      "cell_type": "code",
      "execution_count": null,
      "metadata": {
        "scrolled": true,
        "ExecuteTime": {
          "end_time": "2023-11-28T15:22:18.876925Z",
          "start_time": "2023-11-28T15:22:18.830481Z"
        },
        "id": "6p6J5fogisvN"
      },
      "outputs": [],
      "source": [
        "import numpy as np\n",
        "import pandas as pd\n",
        "from sklearn import preprocessing\n",
        "import matplotlib.pyplot as plt\n"
      ]
    },
    {
      "cell_type": "markdown",
      "metadata": {
        "id": "rHGTJsefisvN"
      },
      "source": [
        "The PCA and PLS/PLS-DA/OrthogonalPLS codes provided in these tutorial notebooks are bundled as a python module (package) named **pyChemometrics**. As an example, the next cell imports the *pyChemometrics* scaler and PCA objects. The syntax and functions of these objects will be explained throughout the tutorials."
      ]
    },
    {
      "cell_type": "code",
      "execution_count": null,
      "metadata": {
        "ExecuteTime": {
          "end_time": "2023-11-28T15:22:18.917084Z",
          "start_time": "2023-11-28T15:22:18.879798Z"
        },
        "id": "xDUOpBARisvN"
      },
      "outputs": [],
      "source": [
        "# NOTE: It is likely that running this line will result in an error. If this occur, re-run this cell again.\n",
        "\n",
        "# Example import\n",
        "from pyChemometrics.ChemometricsPCA import ChemometricsPCA\n",
        "from pyChemometrics.ChemometricsScaler import ChemometricsScaler\n",
        "\n",
        "# Other available objects\n",
        "# 1) ChemometricsPLS\n",
        "# 2) ChemometricsOrthogonalPLS\n",
        "# 3) ChemometricsPLSDA\n",
        "# 4) ChemometricsOrthogonalPLSDA"
      ]
    },
    {
      "cell_type": "markdown",
      "metadata": {
        "id": "rSs2Vj6oisvN"
      },
      "source": [
        "The next cell sets up the figure display mode. The *notebook* mode allows interactive plotting. Another option is to select *inline*, to obtain static plots in a notebook cell."
      ]
    },
    {
      "cell_type": "code",
      "execution_count": null,
      "metadata": {
        "ExecuteTime": {
          "end_time": "2023-11-28T15:22:18.973177Z",
          "start_time": "2023-11-28T15:22:18.916699Z"
        },
        "id": "0mUwtzpUisvN"
      },
      "outputs": [],
      "source": [
        "# Set the plot backend to support interactive plotting\n",
        "# %matplotlib notebook"
      ]
    },
    {
      "cell_type": "markdown",
      "metadata": {
        "id": "TXciRm6AisvP"
      },
      "source": [
        "## Import data and plot\n",
        "\n",
        "We will now import the LC-MS data with the metadata (Y variables) and feature annotation for LC-MS.\n",
        "\n",
        "Then we split the data into two parts:\n",
        "\n",
        "**rpos_x_matrix** - LC-MS data matrix\n",
        "\n",
        "**gender_y** - Metadata that will act as the response variable for the PLS-DA model (sex/gender in this instance)\n",
        "\n",
        "Then we extract the feature annotations:\n",
        "\n",
        "**retention_times**, **mz_values** - annotation for the features of the rpos_x_matrix data\n",
        "\n",
        "<br>\n",
        "\n",
        "*NB - The dataset used in this tutorial has reduced features to speed up the model fitting proces. Full data available from [https://zenodo.org/doi/10.5281/zenodo.4053166](https://zenodo.org/doi/10.5281/zenodo.4053166). We recommend you to try to run the tutorial with the full dataset in your own time, or you can even try to run it using your own data.*\n"
      ]
    },
    {
      "cell_type": "code",
      "execution_count": null,
      "outputs": [
        {
          "output_type": "execute_result",
          "data": {
            "text/plain": [
              "           Sample ID Subject ID    SampleType   Age  Gender  50.3_72.0806m/z  \\\n",
              "0         LND.0063_U   LND.0063  Study Sample  82.0  Female      4279.391329   \n",
              "1         DCR00076_U   DCR00076  Study Sample  74.0    Male      3945.457625   \n",
              "2         KPOA0004_U   KPOA0004  Study Sample  67.0  Female      9362.587006   \n",
              "3         DCR00265_U   DCR00265  Study Sample  88.0  Female      4728.639671   \n",
              "4         KPOA0049_U   KPOA0049  Study Sample  85.0    Male      8448.154954   \n",
              "5         KPOA0011_U   KPOA0011  Study Sample  82.0    Male      8333.437153   \n",
              "6         PRGM0042_U   PRGM0042  Study Sample  77.0    Male      3551.019694   \n",
              "7         LDZM0019_U   LDZM0019  Study Sample  69.0  Female      4156.050266   \n",
              "8  Study Pool Sample        NaN    Study Pool   NaN     NaN      4841.697700   \n",
              "9         KPOA0034_U   KPOA0034  Study Sample  79.0    Male      9405.683884   \n",
              "\n",
              "   215.75_77.0383m/z  47.38_80.0493m/z  133.09_81.0331m/z  45.8_81.0445m/z  \\\n",
              "0       132812.07700       4506.074689        2720.562045      2868.745303   \n",
              "1       138417.13090       1309.942294        1249.494055      3494.259023   \n",
              "2       142398.08450      18505.468440        9877.856453      1190.134653   \n",
              "3        87022.61809       5095.729830         847.960283      1266.689112   \n",
              "4       185732.46750       4036.783755       14654.424660      6360.068832   \n",
              "5       158113.97740       2927.022002        8535.293454      3462.878918   \n",
              "6        82850.57009       2528.345643         206.912705       805.523511   \n",
              "7       112126.17020       2659.404458       10544.900410      2386.309049   \n",
              "8       134620.75260       5101.091535        6291.826442      3722.901385   \n",
              "9       141447.98940       4041.763242        3193.125809      1738.023817   \n",
              "\n",
              "   ...  221.5_1071.3596m/z  205.8_1073.9622m/z  205.79_1074.4635m/z  \\\n",
              "0  ...         4085.265210         6732.657513          6347.939155   \n",
              "1  ...        11689.675430         5598.134302          5787.515322   \n",
              "2  ...         8113.116987        11536.424940         14606.669620   \n",
              "3  ...          554.468858         5788.639874          5788.965883   \n",
              "4  ...        25373.816680        23308.826020         24329.813490   \n",
              "5  ...        19016.873060        15987.007250         16609.021980   \n",
              "6  ...           98.747815         2239.134433          2630.167785   \n",
              "7  ...         3023.892963         3521.890101          4089.724227   \n",
              "8  ...        16108.271080        11961.562210         12934.237030   \n",
              "9  ...         8131.658752        16325.538920         16880.153110   \n",
              "\n",
              "   205.8_1074.9644m/z  89.98_1083.0771m/z  89.91_1089.0929m/z  \\\n",
              "0         3902.831649         5798.323898         7964.330802   \n",
              "1         3195.600251         5593.213256         7127.606038   \n",
              "2         8306.750990         9581.929077        12591.520030   \n",
              "3         3821.990772          997.141966         2950.769791   \n",
              "4        14261.064530        10243.987800         9933.765569   \n",
              "5         9836.509310         6799.758780        11672.230070   \n",
              "6         1014.218767          377.620351         1177.499780   \n",
              "7         3037.316942         9358.043631         7476.169739   \n",
              "8         7598.929570         9412.778118        10638.920610   \n",
              "9         9365.095716         2951.997812         5534.942925   \n",
              "\n",
              "   333.45_1127.4218m/z  187.72_1153.8814m/z  283.65_1167.5044m/z  \\\n",
              "0          4796.908684          2165.982590          3846.940012   \n",
              "1           217.280582          5715.565758          2685.038347   \n",
              "2         10220.392560          7290.037248         15899.085500   \n",
              "3          2174.997429           925.601299          1696.691802   \n",
              "4           119.693782          6935.052278          9301.116601   \n",
              "5          3920.531258          7231.692635         11555.081630   \n",
              "6             0.000000          1054.639825           598.077077   \n",
              "7             0.000000          1974.148433          1924.622499   \n",
              "8         10210.410720          5344.809529          7409.380886   \n",
              "9           422.108513          2247.097761          7448.401687   \n",
              "\n",
              "   74.63_1175.3683m/z  \n",
              "0         7223.434421  \n",
              "1        14887.697220  \n",
              "2         7111.481525  \n",
              "3         3536.644549  \n",
              "4        15081.717310  \n",
              "5        25438.725010  \n",
              "6         1613.640069  \n",
              "7         5064.162185  \n",
              "8        16539.872020  \n",
              "9        10513.124410  \n",
              "\n",
              "[10 rows x 10884 columns]"
            ],
            "text/html": [
              "\n",
              "  <div id=\"df-929cd456-2938-46ca-b2a3-42674455fe6d\" class=\"colab-df-container\">\n",
              "    <div>\n",
              "<style scoped>\n",
              "    .dataframe tbody tr th:only-of-type {\n",
              "        vertical-align: middle;\n",
              "    }\n",
              "\n",
              "    .dataframe tbody tr th {\n",
              "        vertical-align: top;\n",
              "    }\n",
              "\n",
              "    .dataframe thead th {\n",
              "        text-align: right;\n",
              "    }\n",
              "</style>\n",
              "<table border=\"1\" class=\"dataframe\">\n",
              "  <thead>\n",
              "    <tr style=\"text-align: right;\">\n",
              "      <th></th>\n",
              "      <th>Sample ID</th>\n",
              "      <th>Subject ID</th>\n",
              "      <th>SampleType</th>\n",
              "      <th>Age</th>\n",
              "      <th>Gender</th>\n",
              "      <th>50.3_72.0806m/z</th>\n",
              "      <th>215.75_77.0383m/z</th>\n",
              "      <th>47.38_80.0493m/z</th>\n",
              "      <th>133.09_81.0331m/z</th>\n",
              "      <th>45.8_81.0445m/z</th>\n",
              "      <th>...</th>\n",
              "      <th>221.5_1071.3596m/z</th>\n",
              "      <th>205.8_1073.9622m/z</th>\n",
              "      <th>205.79_1074.4635m/z</th>\n",
              "      <th>205.8_1074.9644m/z</th>\n",
              "      <th>89.98_1083.0771m/z</th>\n",
              "      <th>89.91_1089.0929m/z</th>\n",
              "      <th>333.45_1127.4218m/z</th>\n",
              "      <th>187.72_1153.8814m/z</th>\n",
              "      <th>283.65_1167.5044m/z</th>\n",
              "      <th>74.63_1175.3683m/z</th>\n",
              "    </tr>\n",
              "  </thead>\n",
              "  <tbody>\n",
              "    <tr>\n",
              "      <th>0</th>\n",
              "      <td>LND.0063_U</td>\n",
              "      <td>LND.0063</td>\n",
              "      <td>Study Sample</td>\n",
              "      <td>82.0</td>\n",
              "      <td>Female</td>\n",
              "      <td>4279.391329</td>\n",
              "      <td>132812.07700</td>\n",
              "      <td>4506.074689</td>\n",
              "      <td>2720.562045</td>\n",
              "      <td>2868.745303</td>\n",
              "      <td>...</td>\n",
              "      <td>4085.265210</td>\n",
              "      <td>6732.657513</td>\n",
              "      <td>6347.939155</td>\n",
              "      <td>3902.831649</td>\n",
              "      <td>5798.323898</td>\n",
              "      <td>7964.330802</td>\n",
              "      <td>4796.908684</td>\n",
              "      <td>2165.982590</td>\n",
              "      <td>3846.940012</td>\n",
              "      <td>7223.434421</td>\n",
              "    </tr>\n",
              "    <tr>\n",
              "      <th>1</th>\n",
              "      <td>DCR00076_U</td>\n",
              "      <td>DCR00076</td>\n",
              "      <td>Study Sample</td>\n",
              "      <td>74.0</td>\n",
              "      <td>Male</td>\n",
              "      <td>3945.457625</td>\n",
              "      <td>138417.13090</td>\n",
              "      <td>1309.942294</td>\n",
              "      <td>1249.494055</td>\n",
              "      <td>3494.259023</td>\n",
              "      <td>...</td>\n",
              "      <td>11689.675430</td>\n",
              "      <td>5598.134302</td>\n",
              "      <td>5787.515322</td>\n",
              "      <td>3195.600251</td>\n",
              "      <td>5593.213256</td>\n",
              "      <td>7127.606038</td>\n",
              "      <td>217.280582</td>\n",
              "      <td>5715.565758</td>\n",
              "      <td>2685.038347</td>\n",
              "      <td>14887.697220</td>\n",
              "    </tr>\n",
              "    <tr>\n",
              "      <th>2</th>\n",
              "      <td>KPOA0004_U</td>\n",
              "      <td>KPOA0004</td>\n",
              "      <td>Study Sample</td>\n",
              "      <td>67.0</td>\n",
              "      <td>Female</td>\n",
              "      <td>9362.587006</td>\n",
              "      <td>142398.08450</td>\n",
              "      <td>18505.468440</td>\n",
              "      <td>9877.856453</td>\n",
              "      <td>1190.134653</td>\n",
              "      <td>...</td>\n",
              "      <td>8113.116987</td>\n",
              "      <td>11536.424940</td>\n",
              "      <td>14606.669620</td>\n",
              "      <td>8306.750990</td>\n",
              "      <td>9581.929077</td>\n",
              "      <td>12591.520030</td>\n",
              "      <td>10220.392560</td>\n",
              "      <td>7290.037248</td>\n",
              "      <td>15899.085500</td>\n",
              "      <td>7111.481525</td>\n",
              "    </tr>\n",
              "    <tr>\n",
              "      <th>3</th>\n",
              "      <td>DCR00265_U</td>\n",
              "      <td>DCR00265</td>\n",
              "      <td>Study Sample</td>\n",
              "      <td>88.0</td>\n",
              "      <td>Female</td>\n",
              "      <td>4728.639671</td>\n",
              "      <td>87022.61809</td>\n",
              "      <td>5095.729830</td>\n",
              "      <td>847.960283</td>\n",
              "      <td>1266.689112</td>\n",
              "      <td>...</td>\n",
              "      <td>554.468858</td>\n",
              "      <td>5788.639874</td>\n",
              "      <td>5788.965883</td>\n",
              "      <td>3821.990772</td>\n",
              "      <td>997.141966</td>\n",
              "      <td>2950.769791</td>\n",
              "      <td>2174.997429</td>\n",
              "      <td>925.601299</td>\n",
              "      <td>1696.691802</td>\n",
              "      <td>3536.644549</td>\n",
              "    </tr>\n",
              "    <tr>\n",
              "      <th>4</th>\n",
              "      <td>KPOA0049_U</td>\n",
              "      <td>KPOA0049</td>\n",
              "      <td>Study Sample</td>\n",
              "      <td>85.0</td>\n",
              "      <td>Male</td>\n",
              "      <td>8448.154954</td>\n",
              "      <td>185732.46750</td>\n",
              "      <td>4036.783755</td>\n",
              "      <td>14654.424660</td>\n",
              "      <td>6360.068832</td>\n",
              "      <td>...</td>\n",
              "      <td>25373.816680</td>\n",
              "      <td>23308.826020</td>\n",
              "      <td>24329.813490</td>\n",
              "      <td>14261.064530</td>\n",
              "      <td>10243.987800</td>\n",
              "      <td>9933.765569</td>\n",
              "      <td>119.693782</td>\n",
              "      <td>6935.052278</td>\n",
              "      <td>9301.116601</td>\n",
              "      <td>15081.717310</td>\n",
              "    </tr>\n",
              "    <tr>\n",
              "      <th>5</th>\n",
              "      <td>KPOA0011_U</td>\n",
              "      <td>KPOA0011</td>\n",
              "      <td>Study Sample</td>\n",
              "      <td>82.0</td>\n",
              "      <td>Male</td>\n",
              "      <td>8333.437153</td>\n",
              "      <td>158113.97740</td>\n",
              "      <td>2927.022002</td>\n",
              "      <td>8535.293454</td>\n",
              "      <td>3462.878918</td>\n",
              "      <td>...</td>\n",
              "      <td>19016.873060</td>\n",
              "      <td>15987.007250</td>\n",
              "      <td>16609.021980</td>\n",
              "      <td>9836.509310</td>\n",
              "      <td>6799.758780</td>\n",
              "      <td>11672.230070</td>\n",
              "      <td>3920.531258</td>\n",
              "      <td>7231.692635</td>\n",
              "      <td>11555.081630</td>\n",
              "      <td>25438.725010</td>\n",
              "    </tr>\n",
              "    <tr>\n",
              "      <th>6</th>\n",
              "      <td>PRGM0042_U</td>\n",
              "      <td>PRGM0042</td>\n",
              "      <td>Study Sample</td>\n",
              "      <td>77.0</td>\n",
              "      <td>Male</td>\n",
              "      <td>3551.019694</td>\n",
              "      <td>82850.57009</td>\n",
              "      <td>2528.345643</td>\n",
              "      <td>206.912705</td>\n",
              "      <td>805.523511</td>\n",
              "      <td>...</td>\n",
              "      <td>98.747815</td>\n",
              "      <td>2239.134433</td>\n",
              "      <td>2630.167785</td>\n",
              "      <td>1014.218767</td>\n",
              "      <td>377.620351</td>\n",
              "      <td>1177.499780</td>\n",
              "      <td>0.000000</td>\n",
              "      <td>1054.639825</td>\n",
              "      <td>598.077077</td>\n",
              "      <td>1613.640069</td>\n",
              "    </tr>\n",
              "    <tr>\n",
              "      <th>7</th>\n",
              "      <td>LDZM0019_U</td>\n",
              "      <td>LDZM0019</td>\n",
              "      <td>Study Sample</td>\n",
              "      <td>69.0</td>\n",
              "      <td>Female</td>\n",
              "      <td>4156.050266</td>\n",
              "      <td>112126.17020</td>\n",
              "      <td>2659.404458</td>\n",
              "      <td>10544.900410</td>\n",
              "      <td>2386.309049</td>\n",
              "      <td>...</td>\n",
              "      <td>3023.892963</td>\n",
              "      <td>3521.890101</td>\n",
              "      <td>4089.724227</td>\n",
              "      <td>3037.316942</td>\n",
              "      <td>9358.043631</td>\n",
              "      <td>7476.169739</td>\n",
              "      <td>0.000000</td>\n",
              "      <td>1974.148433</td>\n",
              "      <td>1924.622499</td>\n",
              "      <td>5064.162185</td>\n",
              "    </tr>\n",
              "    <tr>\n",
              "      <th>8</th>\n",
              "      <td>Study Pool Sample</td>\n",
              "      <td>NaN</td>\n",
              "      <td>Study Pool</td>\n",
              "      <td>NaN</td>\n",
              "      <td>NaN</td>\n",
              "      <td>4841.697700</td>\n",
              "      <td>134620.75260</td>\n",
              "      <td>5101.091535</td>\n",
              "      <td>6291.826442</td>\n",
              "      <td>3722.901385</td>\n",
              "      <td>...</td>\n",
              "      <td>16108.271080</td>\n",
              "      <td>11961.562210</td>\n",
              "      <td>12934.237030</td>\n",
              "      <td>7598.929570</td>\n",
              "      <td>9412.778118</td>\n",
              "      <td>10638.920610</td>\n",
              "      <td>10210.410720</td>\n",
              "      <td>5344.809529</td>\n",
              "      <td>7409.380886</td>\n",
              "      <td>16539.872020</td>\n",
              "    </tr>\n",
              "    <tr>\n",
              "      <th>9</th>\n",
              "      <td>KPOA0034_U</td>\n",
              "      <td>KPOA0034</td>\n",
              "      <td>Study Sample</td>\n",
              "      <td>79.0</td>\n",
              "      <td>Male</td>\n",
              "      <td>9405.683884</td>\n",
              "      <td>141447.98940</td>\n",
              "      <td>4041.763242</td>\n",
              "      <td>3193.125809</td>\n",
              "      <td>1738.023817</td>\n",
              "      <td>...</td>\n",
              "      <td>8131.658752</td>\n",
              "      <td>16325.538920</td>\n",
              "      <td>16880.153110</td>\n",
              "      <td>9365.095716</td>\n",
              "      <td>2951.997812</td>\n",
              "      <td>5534.942925</td>\n",
              "      <td>422.108513</td>\n",
              "      <td>2247.097761</td>\n",
              "      <td>7448.401687</td>\n",
              "      <td>10513.124410</td>\n",
              "    </tr>\n",
              "  </tbody>\n",
              "</table>\n",
              "<p>10 rows × 10884 columns</p>\n",
              "</div>\n",
              "    <div class=\"colab-df-buttons\">\n",
              "\n",
              "  <div class=\"colab-df-container\">\n",
              "    <button class=\"colab-df-convert\" onclick=\"convertToInteractive('df-929cd456-2938-46ca-b2a3-42674455fe6d')\"\n",
              "            title=\"Convert this dataframe to an interactive table.\"\n",
              "            style=\"display:none;\">\n",
              "\n",
              "  <svg xmlns=\"http://www.w3.org/2000/svg\" height=\"24px\" viewBox=\"0 -960 960 960\">\n",
              "    <path d=\"M120-120v-720h720v720H120Zm60-500h600v-160H180v160Zm220 220h160v-160H400v160Zm0 220h160v-160H400v160ZM180-400h160v-160H180v160Zm440 0h160v-160H620v160ZM180-180h160v-160H180v160Zm440 0h160v-160H620v160Z\"/>\n",
              "  </svg>\n",
              "    </button>\n",
              "\n",
              "  <style>\n",
              "    .colab-df-container {\n",
              "      display:flex;\n",
              "      gap: 12px;\n",
              "    }\n",
              "\n",
              "    .colab-df-convert {\n",
              "      background-color: #E8F0FE;\n",
              "      border: none;\n",
              "      border-radius: 50%;\n",
              "      cursor: pointer;\n",
              "      display: none;\n",
              "      fill: #1967D2;\n",
              "      height: 32px;\n",
              "      padding: 0 0 0 0;\n",
              "      width: 32px;\n",
              "    }\n",
              "\n",
              "    .colab-df-convert:hover {\n",
              "      background-color: #E2EBFA;\n",
              "      box-shadow: 0px 1px 2px rgba(60, 64, 67, 0.3), 0px 1px 3px 1px rgba(60, 64, 67, 0.15);\n",
              "      fill: #174EA6;\n",
              "    }\n",
              "\n",
              "    .colab-df-buttons div {\n",
              "      margin-bottom: 4px;\n",
              "    }\n",
              "\n",
              "    [theme=dark] .colab-df-convert {\n",
              "      background-color: #3B4455;\n",
              "      fill: #D2E3FC;\n",
              "    }\n",
              "\n",
              "    [theme=dark] .colab-df-convert:hover {\n",
              "      background-color: #434B5C;\n",
              "      box-shadow: 0px 1px 3px 1px rgba(0, 0, 0, 0.15);\n",
              "      filter: drop-shadow(0px 1px 2px rgba(0, 0, 0, 0.3));\n",
              "      fill: #FFFFFF;\n",
              "    }\n",
              "  </style>\n",
              "\n",
              "    <script>\n",
              "      const buttonEl =\n",
              "        document.querySelector('#df-929cd456-2938-46ca-b2a3-42674455fe6d button.colab-df-convert');\n",
              "      buttonEl.style.display =\n",
              "        google.colab.kernel.accessAllowed ? 'block' : 'none';\n",
              "\n",
              "      async function convertToInteractive(key) {\n",
              "        const element = document.querySelector('#df-929cd456-2938-46ca-b2a3-42674455fe6d');\n",
              "        const dataTable =\n",
              "          await google.colab.kernel.invokeFunction('convertToInteractive',\n",
              "                                                    [key], {});\n",
              "        if (!dataTable) return;\n",
              "\n",
              "        const docLinkHtml = 'Like what you see? Visit the ' +\n",
              "          '<a target=\"_blank\" href=https://colab.research.google.com/notebooks/data_table.ipynb>data table notebook</a>'\n",
              "          + ' to learn more about interactive tables.';\n",
              "        element.innerHTML = '';\n",
              "        dataTable['output_type'] = 'display_data';\n",
              "        await google.colab.output.renderOutput(dataTable, element);\n",
              "        const docLink = document.createElement('div');\n",
              "        docLink.innerHTML = docLinkHtml;\n",
              "        element.appendChild(docLink);\n",
              "      }\n",
              "    </script>\n",
              "  </div>\n",
              "\n",
              "\n",
              "    <div id=\"df-c0a213c4-fd75-400c-92ba-dc8132e296c5\">\n",
              "      <button class=\"colab-df-quickchart\" onclick=\"quickchart('df-c0a213c4-fd75-400c-92ba-dc8132e296c5')\"\n",
              "                title=\"Suggest charts\"\n",
              "                style=\"display:none;\">\n",
              "\n",
              "<svg xmlns=\"http://www.w3.org/2000/svg\" height=\"24px\"viewBox=\"0 0 24 24\"\n",
              "     width=\"24px\">\n",
              "    <g>\n",
              "        <path d=\"M19 3H5c-1.1 0-2 .9-2 2v14c0 1.1.9 2 2 2h14c1.1 0 2-.9 2-2V5c0-1.1-.9-2-2-2zM9 17H7v-7h2v7zm4 0h-2V7h2v10zm4 0h-2v-4h2v4z\"/>\n",
              "    </g>\n",
              "</svg>\n",
              "      </button>\n",
              "\n",
              "<style>\n",
              "  .colab-df-quickchart {\n",
              "      --bg-color: #E8F0FE;\n",
              "      --fill-color: #1967D2;\n",
              "      --hover-bg-color: #E2EBFA;\n",
              "      --hover-fill-color: #174EA6;\n",
              "      --disabled-fill-color: #AAA;\n",
              "      --disabled-bg-color: #DDD;\n",
              "  }\n",
              "\n",
              "  [theme=dark] .colab-df-quickchart {\n",
              "      --bg-color: #3B4455;\n",
              "      --fill-color: #D2E3FC;\n",
              "      --hover-bg-color: #434B5C;\n",
              "      --hover-fill-color: #FFFFFF;\n",
              "      --disabled-bg-color: #3B4455;\n",
              "      --disabled-fill-color: #666;\n",
              "  }\n",
              "\n",
              "  .colab-df-quickchart {\n",
              "    background-color: var(--bg-color);\n",
              "    border: none;\n",
              "    border-radius: 50%;\n",
              "    cursor: pointer;\n",
              "    display: none;\n",
              "    fill: var(--fill-color);\n",
              "    height: 32px;\n",
              "    padding: 0;\n",
              "    width: 32px;\n",
              "  }\n",
              "\n",
              "  .colab-df-quickchart:hover {\n",
              "    background-color: var(--hover-bg-color);\n",
              "    box-shadow: 0 1px 2px rgba(60, 64, 67, 0.3), 0 1px 3px 1px rgba(60, 64, 67, 0.15);\n",
              "    fill: var(--button-hover-fill-color);\n",
              "  }\n",
              "\n",
              "  .colab-df-quickchart-complete:disabled,\n",
              "  .colab-df-quickchart-complete:disabled:hover {\n",
              "    background-color: var(--disabled-bg-color);\n",
              "    fill: var(--disabled-fill-color);\n",
              "    box-shadow: none;\n",
              "  }\n",
              "\n",
              "  .colab-df-spinner {\n",
              "    border: 2px solid var(--fill-color);\n",
              "    border-color: transparent;\n",
              "    border-bottom-color: var(--fill-color);\n",
              "    animation:\n",
              "      spin 1s steps(1) infinite;\n",
              "  }\n",
              "\n",
              "  @keyframes spin {\n",
              "    0% {\n",
              "      border-color: transparent;\n",
              "      border-bottom-color: var(--fill-color);\n",
              "      border-left-color: var(--fill-color);\n",
              "    }\n",
              "    20% {\n",
              "      border-color: transparent;\n",
              "      border-left-color: var(--fill-color);\n",
              "      border-top-color: var(--fill-color);\n",
              "    }\n",
              "    30% {\n",
              "      border-color: transparent;\n",
              "      border-left-color: var(--fill-color);\n",
              "      border-top-color: var(--fill-color);\n",
              "      border-right-color: var(--fill-color);\n",
              "    }\n",
              "    40% {\n",
              "      border-color: transparent;\n",
              "      border-right-color: var(--fill-color);\n",
              "      border-top-color: var(--fill-color);\n",
              "    }\n",
              "    60% {\n",
              "      border-color: transparent;\n",
              "      border-right-color: var(--fill-color);\n",
              "    }\n",
              "    80% {\n",
              "      border-color: transparent;\n",
              "      border-right-color: var(--fill-color);\n",
              "      border-bottom-color: var(--fill-color);\n",
              "    }\n",
              "    90% {\n",
              "      border-color: transparent;\n",
              "      border-bottom-color: var(--fill-color);\n",
              "    }\n",
              "  }\n",
              "</style>\n",
              "\n",
              "      <script>\n",
              "        async function quickchart(key) {\n",
              "          const quickchartButtonEl =\n",
              "            document.querySelector('#' + key + ' button');\n",
              "          quickchartButtonEl.disabled = true;  // To prevent multiple clicks.\n",
              "          quickchartButtonEl.classList.add('colab-df-spinner');\n",
              "          try {\n",
              "            const charts = await google.colab.kernel.invokeFunction(\n",
              "                'suggestCharts', [key], {});\n",
              "          } catch (error) {\n",
              "            console.error('Error during call to suggestCharts:', error);\n",
              "          }\n",
              "          quickchartButtonEl.classList.remove('colab-df-spinner');\n",
              "          quickchartButtonEl.classList.add('colab-df-quickchart-complete');\n",
              "        }\n",
              "        (() => {\n",
              "          let quickchartButtonEl =\n",
              "            document.querySelector('#df-c0a213c4-fd75-400c-92ba-dc8132e296c5 button');\n",
              "          quickchartButtonEl.style.display =\n",
              "            google.colab.kernel.accessAllowed ? 'block' : 'none';\n",
              "        })();\n",
              "      </script>\n",
              "    </div>\n",
              "\n",
              "    </div>\n",
              "  </div>\n"
            ],
            "application/vnd.google.colaboratory.intrinsic+json": {
              "type": "dataframe",
              "variable_name": "dementia_rpos_dataset"
            }
          },
          "metadata": {},
          "execution_count": 8
        }
      ],
      "source": [
        "# Load the dataset\n",
        "dementia_rpos_dataset = pd.read_csv(\"./data/Dementia U RPOS_combinedData.csv\",delimiter=',')\n",
        "\n",
        "# Inspect the dataset\n",
        "dementia_rpos_dataset.head(10)"
      ],
      "metadata": {
        "ExecuteTime": {
          "end_time": "2023-11-28T15:22:19.889425Z",
          "start_time": "2023-11-28T15:22:18.974600Z"
        },
        "id": "9aap1vJqisvP",
        "colab": {
          "base_uri": "https://localhost:8080/",
          "height": 591
        },
        "outputId": "687f2390-a73f-4d05-d13e-397cefa14048"
      }
    },
    {
      "cell_type": "code",
      "execution_count": null,
      "outputs": [],
      "source": [
        "# Delete samples where outcome variable is unknown (In this example QC samples)\n",
        "dementia_rpos_dataset = dementia_rpos_dataset[~dementia_rpos_dataset['Gender'].isnull()]\n",
        "\n",
        "rpos_x_matrix = dementia_rpos_dataset.iloc[:, 5::].values\n",
        "\n",
        "X = dementia_rpos_dataset.iloc[:, 5:305].values  #Subset for demonstration (300 variables)\n",
        "\n",
        "variable_names = dementia_rpos_dataset.columns[5::]\n",
        "\n",
        "# Use pandas Categorical type\n",
        "Y = pd.Categorical(dementia_rpos_dataset['Gender']).codes\n",
        "Y2 = dementia_rpos_dataset['Age'].values\n",
        "\n",
        "# Extract the retention times and m/z to use in 2D plots of the dataset\n",
        "retention_times = np.array([x.split('_')[0] for x in variable_names], dtype='float')/60\n",
        "mz_values = np.array([x.split('_')[1][0:-3] for x in variable_names], dtype='float')"
      ],
      "metadata": {
        "ExecuteTime": {
          "end_time": "2023-11-28T15:22:19.931214Z",
          "start_time": "2023-11-28T15:22:19.897174Z"
        },
        "id": "sWqyMR6EisvP"
      }
    },
    {
      "cell_type": "markdown",
      "metadata": {
        "id": "NlpeK8kaisvP"
      },
      "source": [
        "**Note**: To apply the analyses exemplified in this notebook to any other dataset, just modify the cell above to import the data matrices and vectors X and Y from any other source file.\n",
        "\n",
        "The expected data types and formatting for **X** and **Y** are:\n",
        "\n",
        "   **X**: Any data matrix with n rows (observations/samples) and p columns (variables/features). The matrix should be provided as a [numpy.ndarray](https://numpy.org/doc/stable/reference/generated/numpy.ndarray.html) object, with 2 dimensions, and with shape = (n, p). We recommend using the *numpy* function [numpy.genfromtxt](https://numpy.org/devdocs/reference/generated/numpy.genfromtxt.html) or the *pandas* [pandas.read_csv](https://pandas.pydata.org/pandas-docs/stable/reference/api/pandas.read_csv.html) function to read the data from a text file. When using the *pandas.read_csv* function, extract the data matrix as a *numpy.ndarray* from the pandas.DataFrame object using the `.values` attribute.\n",
        "```\n",
        "X_DataFrame = pds.read_csv(\"./data/X_spectra.csv\")\n",
        "X = X_DataFrame.values\n",
        "```\n",
        "   \n",
        "   **Y** vectors: Each **Y** vector should be a 1-dimensional [numpy.ndarray](https://numpy.org/doc/stable/reference/generated/numpy.ndarray.html) object, with a number and ordering of elements matching the rows in **X**. For continuous variables, any regular *numpy.ndarray* with a data type of `int` (integers only) or `float` can be used.\n",
        "   ```\n",
        "   Y_continuous = numpy.ndarray([23.4, 24, 0.3, -1.23], dtype='float')\n",
        "   ```\n",
        "To encode binary class labels, a *numpy.ndarray* of dtype `int`, with 0 and 1 as labels (e.g., 0 = Control, 1 = Case) must be used. The way in which classes are encoded will affect the model interpretation: the class labeled as 1 is used as the \"positive/case\" class by the *pyChemometrics* objects.\n",
        "   \n",
        "   In the example above, we used the *pandas* [Categorical](https://pandas.pydata.org/pandas-docs/stable/user_guide/categorical.html) datatype to handle the conversion of the original numerical values (1, 2) to the required (0, 1) labels. After converting a column to a `Categorical` datatype, the `.codes` attribute returns a vector with the same length of the original Y, but where each value is replaced by their integer (`int`) code. The correspondence between code and category can be inspected with the `categories` attribute. The order of the labels in `.codes` is the same as the order of the `categories` attribute (i.e. 0 is the first element in `categories`, 1 the second and so on).\n",
        "   ```\n",
        "   Y1 = pds.Categorical(Y.iloc[:, 1])\n",
        "   Y1.codes # The numerical label\n",
        "   Y1.categories # Original text or numerical description of the category\n",
        "   ```\n",
        "   [get_dummies](https://pandas.pydata.org/pandas-docs/stable/reference/api/pandas.get_dummies.html) is another helpful function to perform dummy (0-1) encoding of variables."
      ]
    },
    {
      "cell_type": "markdown",
      "metadata": {
        "id": "XkxADASGisvP"
      },
      "source": [
        "### Plot the raw data"
      ]
    },
    {
      "cell_type": "markdown",
      "metadata": {
        "id": "-o-mgcKKisvQ"
      },
      "source": [
        "The plot in the next cell displays a series of histograms of distributions of selected variables. The X axis corresponds to the peak relative abundances amd the Y axis their frequencies.  "
      ]
    },
    {
      "cell_type": "code",
      "execution_count": null,
      "metadata": {
        "ExecuteTime": {
          "end_time": "2023-11-28T15:22:39.420921Z",
          "start_time": "2023-11-28T15:22:19.918028Z"
        },
        "id": "IHZ_-mPfisvQ",
        "colab": {
          "base_uri": "https://localhost:8080/",
          "height": 488
        },
        "outputId": "0895a45a-fd8a-46b0-b848-63162dfa557f"
      },
      "outputs": [
        {
          "output_type": "execute_result",
          "data": {
            "text/plain": [
              "<Axes: ylabel='Frequency'>"
            ]
          },
          "metadata": {},
          "execution_count": 10
        },
        {
          "output_type": "display_data",
          "data": {
            "text/plain": [
              "<Figure size 640x480 with 1 Axes>"
            ],
            "image/png": "[encoded data removed]"
          },
          "metadata": {}
        }
      ],
      "source": [
        "pd.DataFrame(X).plot.hist(bins=100, legend=False)"
      ]
    },
    {
      "cell_type": "markdown",
      "metadata": {
        "id": "lr5j97Y2isvQ"
      },
      "source": [
        "# Scaling\n",
        "\n",
        "The choice of scaling is an important parameter choice when modelling the data with PCA and PLS regression algorithms. The scaling parameter impacts on the predictive performance of the model, the trends recovered from the data and model interpretation (i.e., loading vectors).\n",
        "\n",
        "Scaling consists in dividing each variable (column of the data matrix) by a constant value. Variables with a higher intensity tend to have a higher variance. Since PCA and PLS maximize the recovery of variance and covariance, on non-scaled datasets the model will be biased towards features with higher signal intensity. Biologically, it is more reasonable to ensure all variables should be be given equal weight independent of their signal intensity. Scaling the data matrix can remove this bias and enhance recovery of important trends from lower intensity signals.\n",
        "\n",
        "For more information about data scaling and transformation in metabolomics, we recommend [Berg et al. 2006](https://www.ncbi.nlm.nih.gov/pmc/articles/PMC1534033/)\n",
        "\n",
        "The following 3 types of scaling choices are commonly used with multivariate PCA and PLS analyses:\n",
        "\n",
        "Mean centring (MC) = $\\frac{X - \\mu}{\\sigma^{0}}$, *scale_power* = 0. Mean centre all variables and apply no scaling.\n",
        "\n",
        "Pareto scaling = $\\frac{X - \\mu}{\\sigma^{1/2}}$, *scale_power* = 1/2. Mean centre all variables and divide each variable by the square root of its standard deviation ($\\sigma$)\n",
        "\n",
        "Unit variance (UV) scaling = $\\frac{X - \\mu}{\\sigma^{1}}$, *scale_power* = 1. Mean center all variables and scale each variable by its standard deviation.\n",
        "\n",
        "\n",
        "In the *pyChemometrics.ChemometricsScaler* objects we use the *scale_power* argument to represent the exponent of standard deviation used in scaling.\n",
        "\n",
        "These three kinds of scaling are demonstrated below, followed by two other data transformation options, the logarithm and the square root transformation.\n"
      ]
    },
    {
      "cell_type": "markdown",
      "metadata": {
        "id": "ktR5L1ufisvQ"
      },
      "source": [
        "### 1) Mean-centring only (no scaling)\n",
        "\n",
        "Removal of the column-wise mean from the data matrix (each variable is recentered around its own mean). Mean centring is usually suggested (although not a hard-requirement, the data).\n",
        "\n",
        "We will apply the different scaling methods using the *pyChemometrics.ChemometricsScaler* object. We start by initialising a *ChemometricsScaler* object. The *fit* method extracts the scaling parameters (mean and standard deviation vectors) from a data matrix, while the *transform* method takes a data matrix as input and applies to it the scaling using the parameters estimated when the *fit* method was last used."
      ]
    },
    {
      "cell_type": "code",
      "execution_count": null,
      "metadata": {
        "ExecuteTime": {
          "end_time": "2023-11-28T15:22:39.430979Z",
          "start_time": "2023-11-28T15:22:39.420594Z"
        },
        "id": "bdMb5Mj1isvQ"
      },
      "outputs": [],
      "source": [
        "mc_scaler = ChemometricsScaler(scale_power=0)\n",
        "mc_scaler.fit(X)\n",
        "mc_X = mc_scaler.transform(X)\n"
      ]
    },
    {
      "cell_type": "markdown",
      "metadata": {
        "id": "8_bYkSPRisvQ"
      },
      "source": [
        "In the next cell we plot the mean centred data matrix. The main features of the spectrum are still relatively easy to pinpoint (which will aid interpretation of multivariate parameters), but the wide range of values still means that higher intensity variables will dominate the analysis. This *penalises* the detection of trends in low intensity signals, which is not, but also ensures that spurious variation in noise peaks."
      ]
    },
    {
      "cell_type": "code",
      "execution_count": null,
      "metadata": {
        "ExecuteTime": {
          "end_time": "2023-11-28T15:23:01.342195Z",
          "start_time": "2023-11-28T15:22:39.425223Z"
        },
        "id": "iBvQC-Q0isvQ",
        "colab": {
          "base_uri": "https://localhost:8080/",
          "height": 488
        },
        "outputId": "0e2c91fe-8590-45a2-955f-08917e6caad7"
      },
      "outputs": [
        {
          "output_type": "execute_result",
          "data": {
            "text/plain": [
              "<Axes: ylabel='Frequency'>"
            ]
          },
          "metadata": {},
          "execution_count": 12
        },
        {
          "output_type": "display_data",
          "data": {
            "text/plain": [
              "<Figure size 640x480 with 1 Axes>"
            ],
            "image/png": "[encoded data removed]"
          },
          "metadata": {}
        }
      ],
      "source": [
        "pd.DataFrame(mc_X).plot.hist(bins=100, legend=False)"
      ]
    },
    {
      "cell_type": "markdown",
      "metadata": {
        "id": "WNwVwjidisvR"
      },
      "source": [
        "### 2) Unit-variance (UV) scaling: Mean-centring followed by division of each variable (column) by its own standard deviation\n",
        "\n",
        "Now the latent variables detected will not be biased towards variation in the high intensity variables, which biologically is a more reasonable criteria. Low intensity noise values are more likely to be picked up, including baseline artefacts, and the magnitude of most variables is now equalised, making it harder to recognise the spectral profile.\n",
        "\n",
        "In the next example we use the *fit_transform* method, which learns the scaling parameters and returns a scaled data matrix in one go."
      ]
    },
    {
      "cell_type": "code",
      "execution_count": null,
      "metadata": {
        "ExecuteTime": {
          "end_time": "2023-11-28T15:23:01.350715Z",
          "start_time": "2023-11-28T15:23:01.341810Z"
        },
        "id": "jvMaJITcisvR"
      },
      "outputs": [],
      "source": [
        "uv_scaler = ChemometricsScaler(scale_power=1)\n",
        "uv_X = uv_scaler.fit_transform(X)\n"
      ]
    },
    {
      "cell_type": "code",
      "execution_count": null,
      "metadata": {
        "ExecuteTime": {
          "end_time": "2023-11-28T15:23:20.067948Z",
          "start_time": "2023-11-28T15:23:01.346144Z"
        },
        "id": "hxHwvsWBisvR",
        "colab": {
          "base_uri": "https://localhost:8080/",
          "height": 469
        },
        "outputId": "1e5d79c0-9417-42f7-ce9a-8cad820f379d"
      },
      "outputs": [
        {
          "output_type": "execute_result",
          "data": {
            "text/plain": [
              "<Axes: ylabel='Frequency'>"
            ]
          },
          "metadata": {},
          "execution_count": 14
        },
        {
          "output_type": "display_data",
          "data": {
            "text/plain": [
              "<Figure size 640x480 with 1 Axes>"
            ],
            "image/png": "[encoded data removed]"
          },
          "metadata": {}
        }
      ],
      "source": [
        "# Univariate and mean-centred\n",
        "pd.DataFrame(uv_X).plot.hist(bins=100, legend=False)"
      ]
    },
    {
      "cell_type": "markdown",
      "metadata": {
        "id": "pofMdRVMisvR"
      },
      "source": [
        "### 3) Pareto scaling: Mean-centring followed by division of each variable (column) by the square root of its own standard deviation\n",
        "\n",
        "Pareto scaling provides a balance between the mean centering (no scaling) and UV scaling."
      ]
    },
    {
      "cell_type": "code",
      "execution_count": null,
      "metadata": {
        "ExecuteTime": {
          "end_time": "2023-11-28T15:23:20.077363Z",
          "start_time": "2023-11-28T15:23:20.067855Z"
        },
        "id": "3JE2rkEhisvR"
      },
      "outputs": [],
      "source": [
        "par_scaler = ChemometricsScaler(scale_power=1/2)\n",
        "pa_X = par_scaler.fit_transform(X)"
      ]
    },
    {
      "cell_type": "code",
      "execution_count": null,
      "metadata": {
        "ExecuteTime": {
          "end_time": "2023-11-28T15:23:42.337001Z",
          "start_time": "2023-11-28T15:23:20.074072Z"
        },
        "id": "JOTMQIUCisvR",
        "colab": {
          "base_uri": "https://localhost:8080/",
          "height": 469
        },
        "outputId": "07e2116f-7a88-4eaf-f9c9-828b37304b3b"
      },
      "outputs": [
        {
          "output_type": "execute_result",
          "data": {
            "text/plain": [
              "<Axes: ylabel='Frequency'>"
            ]
          },
          "metadata": {},
          "execution_count": 16
        },
        {
          "output_type": "display_data",
          "data": {
            "text/plain": [
              "<Figure size 640x480 with 1 Axes>"
            ],
            "image/png": "[encoded data removed]"
          },
          "metadata": {}
        }
      ],
      "source": [
        "#std_dev_sq_root = np.sqrt(mc_X.std(axis=0))\n",
        "#pa_X = mc_X / std_dev_sq_root\n",
        "\n",
        "pd.DataFrame(pa_X).plot.hist(bins=100, legend=False)"
      ]
    },
    {
      "cell_type": "markdown",
      "source": [
        "### 4) Logarithmic and square root transformation\n",
        "\n",
        "Another option is to apply non-linear transformations to the data matrix, such as the logarithmic transform and the square-root transformation."
      ],
      "metadata": {
        "collapsed": false,
        "id": "77vxUO-CisvS"
      }
    },
    {
      "cell_type": "code",
      "execution_count": null,
      "outputs": [
        {
          "output_type": "execute_result",
          "data": {
            "text/plain": [
              "<Axes: ylabel='Frequency'>"
            ]
          },
          "metadata": {},
          "execution_count": 20
        },
        {
          "output_type": "display_data",
          "data": {
            "text/plain": [
              "<Figure size 640x480 with 1 Axes>"
            ],
            "image/png": "[encoded data removed]"
          },
          "metadata": {}
        }
      ],
      "source": [
        "# Log1p scaling\n",
        "log1p_x = np.log1p(X)\n",
        "\n",
        "pd.DataFrame(log1p_x).plot.hist(bins=100, legend=False)"
      ],
      "metadata": {
        "ExecuteTime": {
          "end_time": "2023-11-28T15:24:01.117725Z",
          "start_time": "2023-11-28T15:23:42.336580Z"
        },
        "id": "PJ26YpMEisvS",
        "colab": {
          "base_uri": "https://localhost:8080/",
          "height": 468
        },
        "outputId": "3d123aa7-4215-4227-86b7-304cda06eb26"
      }
    },
    {
      "cell_type": "markdown",
      "source": [
        "\n",
        "\n",
        "Log-transformation is a non-linear transformation, which has the advantage of removing the effect of heteroskedasticity between and within variables, when the coefficient of variation of the methods is constant (variance increasing with the mean). The scaling effect it has on variables is somewhat similar to Pareto scaling. They are also recommended for univariate analysis.\n",
        "These transformations functions are not defined for 0 values. To perform logarithmic transform  we first add an offset to ensure all data points are non-negative and non-zero. Here it is calculated by adding the minimum value in the dataset plus 1. Any offset or other transformation should be carefully recorded.\n",
        "\n",
        "Logarithmic and square-root transformations are not implemented in the *pyChemometrics.ChemometricsScaler* object, but can be applied by transforming the data as shown below. After applying these transformations, the data should still be mean centred before PCA and PLS modeling."
      ],
      "metadata": {
        "collapsed": false,
        "id": "u2ZSffAvisvS"
      }
    },
    {
      "cell_type": "code",
      "execution_count": null,
      "metadata": {
        "ExecuteTime": {
          "end_time": "2023-11-28T15:24:20.220677Z",
          "start_time": "2023-11-28T15:24:01.117645Z"
        },
        "id": "FEgP-E4kisvS",
        "colab": {
          "base_uri": "https://localhost:8080/",
          "height": 468
        },
        "outputId": "dcebd594-548b-4f05-94b4-12330ea6f55a"
      },
      "outputs": [
        {
          "output_type": "execute_result",
          "data": {
            "text/plain": [
              "<Axes: ylabel='Frequency'>"
            ]
          },
          "metadata": {},
          "execution_count": 21
        },
        {
          "output_type": "display_data",
          "data": {
            "text/plain": [
              "<Figure size 640x480 with 1 Axes>"
            ],
            "image/png": "[encoded data removed]"
          },
          "metadata": {}
        }
      ],
      "source": [
        "# Log scaling\n",
        "\n",
        "# Offset is required to ensure all datapoints are non-negative and non-zero.\n",
        "# Here it is being calculated by simply adding 1\n",
        "#to the minimum value in the dataset (to account for negative values in the noise region as well as 0).\n",
        "\n",
        "offset = np.min(X) + 1\n",
        "log_X = np.log(X + offset)\n",
        "mean_logvec = np.mean(log_X, axis=0)\n",
        "mclogX = (log_X - mean_logvec)\n",
        "\n",
        "pd.DataFrame(mclogX).plot.hist(bins=100, legend=False)\n",
        "\n",
        "\n",
        "# The code above is equivalent to:\n",
        "# mc_scaler = ChemometricsScaler(scale_power=0)\n",
        "# mclogX = mc_scaler.fit_transform(np.log1p(X))"
      ]
    },
    {
      "cell_type": "code",
      "execution_count": null,
      "outputs": [
        {
          "output_type": "execute_result",
          "data": {
            "text/plain": [
              "<Axes: ylabel='Frequency'>"
            ]
          },
          "metadata": {},
          "execution_count": 22
        },
        {
          "output_type": "display_data",
          "data": {
            "text/plain": [
              "<Figure size 640x480 with 1 Axes>"
            ],
            "image/png": "[encoded data removed]"
          },
          "metadata": {}
        }
      ],
      "source": [
        "\n",
        "# Square root transformation\n",
        "\n",
        "# Offset is required to ensure all datapoints are non-negative and non-zero.\n",
        "# Here it is being calculated by simply adding 1\n",
        "#to the minimum value in the dataset (to account for negative values in the noise region as well as 0).\n",
        "\n",
        "offset = np.min(X) + 1\n",
        "sqrt_X = np.sqrt(X + offset)\n",
        "mean_sqrvec = np.mean(sqrt_X, axis=0)\n",
        "mcsqrt_X = (sqrt_X - mean_sqrvec)\n",
        "\n",
        "pd.DataFrame(mcsqrt_X).plot.hist(bins=100, legend=False)\n",
        "\n"
      ],
      "metadata": {
        "is_executing": true,
        "ExecuteTime": {
          "start_time": "2023-11-28T15:24:20.220804Z"
        },
        "id": "NT4dhkCEisvT",
        "colab": {
          "base_uri": "https://localhost:8080/",
          "height": 469
        },
        "outputId": "251decb1-1f38-40f5-cc7e-6fde3644834e"
      }
    }
  ],
  "metadata": {
    "kernelspec": {
      "display_name": "Python 3 (ipykernel)",
      "language": "python",
      "name": "python3"
    },
    "language_info": {
      "codemirror_mode": {
        "name": "ipython",
        "version": 3
      },
      "file_extension": ".py",
      "mimetype": "text/x-python",
      "name": "python",
      "nbconvert_exporter": "python",
      "pygments_lexer": "ipython3",
      "version": "3.9.15"
    },
    "colab": {
      "provenance": []
    }
  },
  "nbformat": 4,
  "nbformat_minor": 0
}